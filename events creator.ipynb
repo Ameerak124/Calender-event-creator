{
 "cells": [
  {
   "cell_type": "code",
   "execution_count": 1,
   "metadata": {},
   "outputs": [
    {
     "name": "stdout",
     "output_type": "stream",
     "text": [
      "Requirement already satisfied: google-api-python-client in c:\\users\\sys111\\anaconda3\\envs\\aichatbot\\lib\\site-packages (1.8.0)\n",
      "Requirement already satisfied: google-auth-httplib2>=0.0.3 in c:\\users\\sys111\\anaconda3\\envs\\aichatbot\\lib\\site-packages (from google-api-python-client) (0.0.3)\n",
      "Requirement already satisfied: httplib2<1dev,>=0.9.2 in c:\\users\\sys111\\anaconda3\\envs\\aichatbot\\lib\\site-packages (from google-api-python-client) (0.14.0)\n",
      "Requirement already satisfied: uritemplate<4dev,>=3.0.0 in c:\\users\\sys111\\anaconda3\\envs\\aichatbot\\lib\\site-packages (from google-api-python-client) (3.0.0)\n",
      "Requirement already satisfied: google-auth>=1.4.1 in c:\\users\\sys111\\anaconda3\\envs\\aichatbot\\lib\\site-packages (from google-api-python-client) (1.9.0)\n",
      "Requirement already satisfied: google-api-core<2dev,>=1.13.0 in c:\\users\\sys111\\anaconda3\\envs\\aichatbot\\lib\\site-packages (from google-api-python-client) (1.15.0)\n",
      "Requirement already satisfied: six<2dev,>=1.6.1 in c:\\users\\sys111\\anaconda3\\envs\\aichatbot\\lib\\site-packages (from google-api-python-client) (1.13.0)\n",
      "Requirement already satisfied: pyasn1-modules>=0.2.1 in c:\\users\\sys111\\anaconda3\\envs\\aichatbot\\lib\\site-packages (from google-auth>=1.4.1->google-api-python-client) (0.2.7)\n",
      "Requirement already satisfied: rsa<4.1,>=3.1.4 in c:\\users\\sys111\\anaconda3\\envs\\aichatbot\\lib\\site-packages (from google-auth>=1.4.1->google-api-python-client) (4.0)\n",
      "Requirement already satisfied: cachetools<3.2,>=2.0.0 in c:\\users\\sys111\\anaconda3\\envs\\aichatbot\\lib\\site-packages (from google-auth>=1.4.1->google-api-python-client) (3.1.1)\n",
      "Requirement already satisfied: setuptools>=40.3.0 in c:\\users\\sys111\\anaconda3\\envs\\aichatbot\\lib\\site-packages (from google-auth>=1.4.1->google-api-python-client) (42.0.2.post20191203)\n",
      "Requirement already satisfied: pytz in c:\\users\\sys111\\anaconda3\\envs\\aichatbot\\lib\\site-packages (from google-api-core<2dev,>=1.13.0->google-api-python-client) (2019.3)\n",
      "Requirement already satisfied: requests<3.0.0dev,>=2.18.0 in c:\\users\\sys111\\anaconda3\\envs\\aichatbot\\lib\\site-packages (from google-api-core<2dev,>=1.13.0->google-api-python-client) (2.22.0)\n",
      "Requirement already satisfied: protobuf>=3.4.0 in c:\\users\\sys111\\anaconda3\\envs\\aichatbot\\lib\\site-packages (from google-api-core<2dev,>=1.13.0->google-api-python-client) (3.11.1)\n",
      "Requirement already satisfied: googleapis-common-protos<2.0dev,>=1.6.0 in c:\\users\\sys111\\anaconda3\\envs\\aichatbot\\lib\\site-packages (from google-api-core<2dev,>=1.13.0->google-api-python-client) (1.6.0)\n",
      "Requirement already satisfied: pyasn1<0.5.0,>=0.4.6 in c:\\users\\sys111\\anaconda3\\envs\\aichatbot\\lib\\site-packages (from pyasn1-modules>=0.2.1->google-auth>=1.4.1->google-api-python-client) (0.4.8)\n",
      "Requirement already satisfied: certifi>=2017.4.17 in c:\\users\\sys111\\anaconda3\\envs\\aichatbot\\lib\\site-packages (from requests<3.0.0dev,>=2.18.0->google-api-core<2dev,>=1.13.0->google-api-python-client) (2019.11.28)\n",
      "Requirement already satisfied: urllib3!=1.25.0,!=1.25.1,<1.26,>=1.21.1 in c:\\users\\sys111\\anaconda3\\envs\\aichatbot\\lib\\site-packages (from requests<3.0.0dev,>=2.18.0->google-api-core<2dev,>=1.13.0->google-api-python-client) (1.25.7)\n",
      "Requirement already satisfied: chardet<3.1.0,>=3.0.2 in c:\\users\\sys111\\anaconda3\\envs\\aichatbot\\lib\\site-packages (from requests<3.0.0dev,>=2.18.0->google-api-core<2dev,>=1.13.0->google-api-python-client) (3.0.4)\n",
      "Requirement already satisfied: idna<2.9,>=2.5 in c:\\users\\sys111\\anaconda3\\envs\\aichatbot\\lib\\site-packages (from requests<3.0.0dev,>=2.18.0->google-api-core<2dev,>=1.13.0->google-api-python-client) (2.8)\n"
     ]
    }
   ],
   "source": [
    "!pip install google-api-python-client"
   ]
  },
  {
   "cell_type": "code",
   "execution_count": 14,
   "metadata": {},
   "outputs": [],
   "source": [
    "from apiclient.discovery import build\n",
    "from google_auth_oauthlib.flow import InstalledAppFlow"
   ]
  },
  {
   "cell_type": "code",
   "execution_count": 15,
   "metadata": {},
   "outputs": [],
   "source": [
    "scopes = ['https://www.googleapis.com/auth/calendar']"
   ]
  },
  {
   "cell_type": "code",
   "execution_count": 16,
   "metadata": {},
   "outputs": [
    {
     "name": "stdout",
     "output_type": "stream",
     "text": [
      "Please visit this URL to authorize this application: https://accounts.google.com/o/oauth2/auth?response_type=code&client_id=827652976967-1sb36qlkpshmimnv2lfvcppdk9vslqdv.apps.googleusercontent.com&redirect_uri=urn%3Aietf%3Awg%3Aoauth%3A2.0%3Aoob&scope=https%3A%2F%2Fwww.googleapis.com%2Fauth%2Fcalendar&state=KOmK6JHOjhRmCyZxIvp4jCF9Sexwn8&prompt=consent&access_type=offline\n",
      "Enter the authorization code: 4/yQFNAv1sq4Grbofl271d558R_0x9oJ9YySEro5CKRjQWstRIwPYRtPI\n"
     ]
    }
   ],
   "source": [
    "flow = InstalledAppFlow.from_client_secrets_file(\"C:\\\\Users\\\\sys111\\\\Downloads\\\\new\\\\client_secret.json\", scopes=scopes)\n",
    "credentials = flow.run_console()"
   ]
  },
  {
   "cell_type": "code",
   "execution_count": 18,
   "metadata": {},
   "outputs": [
    {
     "data": {
      "text/plain": [
       "<google.oauth2.credentials.Credentials at 0x1d602029e48>"
      ]
     },
     "execution_count": 18,
     "metadata": {},
     "output_type": "execute_result"
    }
   ],
   "source": [
    "credentials"
   ]
  },
  {
   "cell_type": "code",
   "execution_count": 19,
   "metadata": {},
   "outputs": [],
   "source": [
    "import pickle\n",
    "\n",
    "pickle.dump(credentials, open(\"tokenzz.pkl\", \"wb\"))"
   ]
  },
  {
   "cell_type": "code",
   "execution_count": 20,
   "metadata": {},
   "outputs": [],
   "source": [
    "credentials = pickle.load(open(\"tokenzz.pkl\", \"rb\"))"
   ]
  },
  {
   "cell_type": "code",
   "execution_count": 21,
   "metadata": {},
   "outputs": [],
   "source": [
    "service = build(\"calendar\", \"v3\", credentials=credentials)"
   ]
  },
  {
   "cell_type": "code",
   "execution_count": 22,
   "metadata": {},
   "outputs": [],
   "source": [
    "result = service.calendarList().list().execute()"
   ]
  },
  {
   "cell_type": "code",
   "execution_count": 23,
   "metadata": {},
   "outputs": [
    {
     "data": {
      "text/plain": [
       "{'kind': 'calendar#calendarListEntry',\n",
       " 'etag': '\"1550108130679000\"',\n",
       " 'id': 'ak.group024@gmail.com',\n",
       " 'summary': 'ak.group024@gmail.com',\n",
       " 'timeZone': 'Asia/Kolkata',\n",
       " 'colorId': '14',\n",
       " 'backgroundColor': '#9fe1e7',\n",
       " 'foregroundColor': '#000000',\n",
       " 'selected': True,\n",
       " 'accessRole': 'owner',\n",
       " 'defaultReminders': [{'method': 'popup', 'minutes': 30}],\n",
       " 'notificationSettings': {'notifications': [{'type': 'eventCreation',\n",
       "    'method': 'email'},\n",
       "   {'type': 'eventChange', 'method': 'email'},\n",
       "   {'type': 'eventCancellation', 'method': 'email'},\n",
       "   {'type': 'eventResponse', 'method': 'email'}]},\n",
       " 'primary': True,\n",
       " 'conferenceProperties': {'allowedConferenceSolutionTypes': ['eventHangout']}}"
      ]
     },
     "execution_count": 23,
     "metadata": {},
     "output_type": "execute_result"
    }
   ],
   "source": [
    "\n",
    "result['items'][0]"
   ]
  },
  {
   "cell_type": "code",
   "execution_count": 24,
   "metadata": {},
   "outputs": [],
   "source": [
    "calendar_id = result['items'][0]['id']"
   ]
  },
  {
   "cell_type": "code",
   "execution_count": 25,
   "metadata": {},
   "outputs": [],
   "source": [
    "result = service.events().list(calendarId=calendar_id, timeZone=\"Asia/Kolkata\").execute()"
   ]
  },
  {
   "cell_type": "code",
   "execution_count": 26,
   "metadata": {},
   "outputs": [
    {
     "data": {
      "text/plain": [
       "{'kind': 'calendar#event',\n",
       " 'etag': '\"3172200180834000\"',\n",
       " 'id': '0q97879b5o8605hjh8igvqsdou',\n",
       " 'status': 'confirmed',\n",
       " 'htmlLink': 'https://www.google.com/calendar/event?eid=MHE5Nzg3OWI1bzg2MDVoamg4aWd2cXNkb3UgYWsuZ3JvdXAwMjRAbQ&ctz=Asia/Kolkata',\n",
       " 'created': '2020-04-05T15:21:30.000Z',\n",
       " 'updated': '2020-04-05T15:21:30.417Z',\n",
       " 'summary': 'meeting',\n",
       " 'creator': {'email': 'ak.group024@gmail.com', 'self': True},\n",
       " 'organizer': {'email': 'ak.group024@gmail.com', 'self': True},\n",
       " 'start': {'dateTime': '2020-04-05T22:00:00+05:30'},\n",
       " 'end': {'dateTime': '2020-04-05T23:00:00+05:30'},\n",
       " 'iCalUID': '0q97879b5o8605hjh8igvqsdou@google.com',\n",
       " 'sequence': 0,\n",
       " 'reminders': {'useDefault': True}}"
      ]
     },
     "execution_count": 26,
     "metadata": {},
     "output_type": "execute_result"
    }
   ],
   "source": [
    "result['items'][0]"
   ]
  },
  {
   "cell_type": "code",
   "execution_count": 27,
   "metadata": {},
   "outputs": [],
   "source": [
    "from datetime import datetime, timedelta\n",
    "\n",
    "start_time = datetime(2020, 4, 16, 0, 30, 0)\n",
    "end_time = start_time + timedelta(hours=1)\n",
    "timezone = 'Asia/Kolkata'"
   ]
  },
  {
   "cell_type": "code",
   "execution_count": 28,
   "metadata": {},
   "outputs": [],
   "source": [
    "    {\n",
    "  'summary': 'Ameer birthday 2020',\n",
    "  'location': 'Hyderabad',\n",
    "  'sendNotifications':'true',\n",
    "  'description': '23rd birthday',\n",
    "  'start': {\n",
    "    'dateTime': start_time.strftime(\"%Y-%m-%dT%H:%M:%S\"),\n",
    "    'timeZone': timezone,\n",
    "  },\n",
    "  'end': {\n",
    "    'dateTime': end_time.strftime(\"%Y-%m-%dT%H:%M:%S\"),\n",
    "    'timeZone': timezone,\n",
    "  },\n",
    "  'attendees':[\n",
    "      {'email':'ameersheik124@gmail.com'},{'email':'ekansh031998@gmail.com'},{'email':'krishnaameerpet47@gmail.com'},{'email':'veerendra@walslab.com'}\n",
    "  ],\n",
    "  'reminders': {\n",
    "    'useDefault': False,\n",
    "    'overrides': [\n",
    "      {'method': 'email', 'minutes': 24 * 60},\n",
    "      {'method': 'popup', 'minutes': 10},\n",
    "    ],\n",
    "  },\n",
    "}"
   ]
  },
  {
   "cell_type": "code",
   "execution_count": 30,
   "metadata": {},
   "outputs": [
    {
     "data": {
      "text/plain": [
       "{'kind': 'calendar#event',\n",
       " 'etag': '\"3172207210932000\"',\n",
       " 'id': 'c1jq5klkg77i6l02ilri88jtl8',\n",
       " 'status': 'confirmed',\n",
       " 'htmlLink': 'https://www.google.com/calendar/event?eid=YzFqcTVrbGtnNzdpNmwwMmlscmk4OGp0bDggYWsuZ3JvdXAwMjRAbQ',\n",
       " 'created': '2020-04-05T16:20:05.000Z',\n",
       " 'updated': '2020-04-05T16:20:05.547Z',\n",
       " 'summary': 'Ameer birthday 2020',\n",
       " 'description': '23rd birthday',\n",
       " 'location': 'Hyderabad',\n",
       " 'creator': {'email': 'ak.group024@gmail.com', 'self': True},\n",
       " 'organizer': {'email': 'ak.group024@gmail.com', 'self': True},\n",
       " 'start': {'dateTime': '2020-04-16T00:30:00+05:30',\n",
       "  'timeZone': 'Asia/Kolkata'},\n",
       " 'end': {'dateTime': '2020-04-16T01:30:00+05:30', 'timeZone': 'Asia/Kolkata'},\n",
       " 'iCalUID': 'c1jq5klkg77i6l02ilri88jtl8@google.com',\n",
       " 'sequence': 0,\n",
       " 'attendees': [{'email': 'ameersheik124@gmail.com',\n",
       "   'responseStatus': 'needsAction'},\n",
       "  {'email': 'krishnaameerpet47@gmail.com', 'responseStatus': 'needsAction'},\n",
       "  {'email': 'veerendra@walslab.com', 'responseStatus': 'needsAction'},\n",
       "  {'email': 'ekansh031998@gmail.com', 'responseStatus': 'needsAction'}],\n",
       " 'reminders': {'useDefault': False,\n",
       "  'overrides': [{'method': 'popup', 'minutes': 10},\n",
       "   {'method': 'email', 'minutes': 1440}]}}"
      ]
     },
     "execution_count": 30,
     "metadata": {},
     "output_type": "execute_result"
    }
   ],
   "source": [
    "service.events().insert(calendarId=\"primary\", body=event,sendNotifications=True).execute()\n"
   ]
  },
  {
   "cell_type": "code",
   "execution_count": null,
   "metadata": {},
   "outputs": [],
   "source": [
    "def create_event(creator,summary,location,description,attendees,start_time,end_time):\n",
    "    event = {\n",
    "  'summary': summary,\n",
    "  'location': location,\n",
    "  'description':description ,\n",
    "  'start': {\n",
    "    'dateTime': start_time.strftime(\"%Y-%m-%dT%H:%M:%S\"),\n",
    "    'timeZone': timezone,\n",
    "  },\n",
    "  'end': {\n",
    "    'dateTime': end_time.strftime(\"%Y-%m-%dT%H:%M:%S\"),\n",
    "    'timeZone': timezone,\n",
    "  },\n",
    "  'attendees':[\n",
    "      {'email':'ameersheik124@gmail.com'},{'email':'ekansh031998@gmail.com'},{'email':'krishnaameerpet47@gmail.com'},{'email':'veerendra@walslab.com'}\n",
    "  ],\n",
    "  'reminders': {\n",
    "    'useDefault': False,\n",
    "    'overrides': [\n",
    "      {'method': 'email', 'minutes': 24 * 60},\n",
    "      {'method': 'popup', 'minutes': 10},\n",
    "    ],\n",
    "  },\n",
    "}\n",
    "    "
   ]
  }
 ],
 "metadata": {
  "kernelspec": {
   "display_name": "Python 3",
   "language": "python",
   "name": "python3"
  },
  "language_info": {
   "codemirror_mode": {
    "name": "ipython",
    "version": 3
   },
   "file_extension": ".py",
   "mimetype": "text/x-python",
   "name": "python",
   "nbconvert_exporter": "python",
   "pygments_lexer": "ipython3",
   "version": "3.6.9"
  }
 },
 "nbformat": 4,
 "nbformat_minor": 2
}
